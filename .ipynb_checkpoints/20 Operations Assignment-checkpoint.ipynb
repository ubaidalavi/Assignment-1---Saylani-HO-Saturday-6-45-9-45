{
 "cells": [
  {
   "cell_type": "code",
   "execution_count": 2,
   "metadata": {},
   "outputs": [
    {
     "data": {
      "text/plain": [
       "6810.0"
      ]
     },
     "execution_count": 2,
     "metadata": {},
     "output_type": "execute_result"
    }
   ],
   "source": [
    "2 + 4 * (65 + 4) / 1 + 56 ** 2 * 2 / 2 + (3 * 2) + 12 - 34 + 4 * (65 + 4) / 1 + 56 ** 2 * 2 / 2"
   ]
  },
  {
   "cell_type": "code",
   "execution_count": null,
   "metadata": {},
   "outputs": [],
   "source": [
    "# pemdas\n",
    "2 + 4 * 69 / 1 + 56 ** 2 * 2 / 2 + 6 + 12 - 34 + 4 * 69 / 1 + 56 ** 2 * 2 / 2\n",
    "2 + 4 * 69 / 1 + 3136 * 2 / 2 + 6 + 12 - 34 + 4 * 69 / 1 + 3136 * 2 / 2\n",
    "2 + 276 / 1 + 6272 / 2 + 6 + 12 - 34 + 276 / 1 + 6272 / 2\n",
    "2 + 276 + 3136 + 6 + 12 - 34 + 276 + 3136\n",
    "278 + 3136 + 6 + 12 - 34 + 276 + 3136\n",
    "3432 - 34 + 3412\n",
    "6844 - 34\n",
    "6810"
   ]
  }
 ],
 "metadata": {
  "kernelspec": {
   "display_name": "Python 3",
   "language": "python",
   "name": "python3"
  },
  "language_info": {
   "codemirror_mode": {
    "name": "ipython",
    "version": 3
   },
   "file_extension": ".py",
   "mimetype": "text/x-python",
   "name": "python",
   "nbconvert_exporter": "python",
   "pygments_lexer": "ipython3",
   "version": "3.7.3"
  }
 },
 "nbformat": 4,
 "nbformat_minor": 2
}
